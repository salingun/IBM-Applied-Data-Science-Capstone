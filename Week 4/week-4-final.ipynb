{
 "cells": [
  {
   "cell_type": "code",
   "execution_count": 2,
   "metadata": {},
   "outputs": [],
   "source": [
    "import requests\n",
    "import pandas as pd\n",
    "import numpy as np\n",
    "import folium\n",
    "from bs4 import BeautifulSoup"
   ]
  },
  {
   "cell_type": "code",
   "execution_count": 3,
   "metadata": {},
   "outputs": [
    {
     "data": {
      "text/plain": [
       "200"
      ]
     },
     "execution_count": 3,
     "metadata": {},
     "output_type": "execute_result"
    }
   ],
   "source": [
    "url  = \"https://en.wikipedia.org/wiki/List_of_postal_codes_of_Canada:_M\"\n",
    "page = requests.get(url)\n",
    "page.status_code"
   ]
  },
  {
   "cell_type": "code",
   "execution_count": 4,
   "metadata": {},
   "outputs": [
    {
     "data": {
      "text/html": [
       "<div>\n",
       "<style scoped>\n",
       "    .dataframe tbody tr th:only-of-type {\n",
       "        vertical-align: middle;\n",
       "    }\n",
       "\n",
       "    .dataframe tbody tr th {\n",
       "        vertical-align: top;\n",
       "    }\n",
       "\n",
       "    .dataframe thead th {\n",
       "        text-align: right;\n",
       "    }\n",
       "</style>\n",
       "<table border=\"1\" class=\"dataframe\">\n",
       "  <thead>\n",
       "    <tr style=\"text-align: right;\">\n",
       "      <th></th>\n",
       "      <th>PostalCode</th>\n",
       "      <th>Borough</th>\n",
       "      <th>Neighborhood</th>\n",
       "    </tr>\n",
       "  </thead>\n",
       "  <tbody>\n",
       "    <tr>\n",
       "      <td>0</td>\n",
       "      <td>M1A</td>\n",
       "      <td>NaN</td>\n",
       "      <td>NaN</td>\n",
       "    </tr>\n",
       "    <tr>\n",
       "      <td>1</td>\n",
       "      <td>M2A</td>\n",
       "      <td>NaN</td>\n",
       "      <td>NaN</td>\n",
       "    </tr>\n",
       "    <tr>\n",
       "      <td>2</td>\n",
       "      <td>M3A</td>\n",
       "      <td>North York</td>\n",
       "      <td>Parkwoods</td>\n",
       "    </tr>\n",
       "    <tr>\n",
       "      <td>3</td>\n",
       "      <td>M4A</td>\n",
       "      <td>North York</td>\n",
       "      <td>Victoria Village</td>\n",
       "    </tr>\n",
       "    <tr>\n",
       "      <td>4</td>\n",
       "      <td>M5A</td>\n",
       "      <td>Downtown Toronto</td>\n",
       "      <td>Harbourfront</td>\n",
       "    </tr>\n",
       "  </tbody>\n",
       "</table>\n",
       "</div>"
      ],
      "text/plain": [
       "  PostalCode           Borough      Neighborhood\n",
       "0        M1A               NaN               NaN\n",
       "1        M2A               NaN               NaN\n",
       "2        M3A        North York         Parkwoods\n",
       "3        M4A        North York  Victoria Village\n",
       "4        M5A  Downtown Toronto      Harbourfront"
      ]
     },
     "execution_count": 4,
     "metadata": {},
     "output_type": "execute_result"
    }
   ],
   "source": [
    "import lxml\n",
    "soup = BeautifulSoup(page.content, \"lxml\")\n",
    "table = soup.find('table', {\"class\":\"wikitable sortable\"})\n",
    "trs = table.find_all('tr')\n",
    "\n",
    "postcode = []\n",
    "borough = []\n",
    "neighbourhood = []\n",
    "\n",
    "for tr in trs:\n",
    "    tds = tr.find_all('td')\n",
    "    if tds:\n",
    "        postcode.append(tds[0].text.strip())\n",
    "        borough.append(tds[1].text.strip())\n",
    "        neighbourhood.append(tds[2].text.strip())\n",
    "        \n",
    "df_html = pd.DataFrame(data=[postcode, borough, neighbourhood]).transpose()\n",
    "df_html .columns=['PostalCode', 'Borough', 'Neighborhood']\n",
    "df_html.loc[df_html['Borough'] == \"Not assigned\", 'Borough'] = np.nan\n",
    "df_html.loc[df_html['Neighborhood'] == \"Not assigned\", 'Neighborhood'] = np.nan\n",
    "df_html.head()"
   ]
  },
  {
   "cell_type": "code",
   "execution_count": 5,
   "metadata": {},
   "outputs": [],
   "source": [
    "df_html.dropna(subset=['Borough'], inplace=True)"
   ]
  },
  {
   "cell_type": "code",
   "execution_count": 6,
   "metadata": {},
   "outputs": [
    {
     "name": "stdout",
     "output_type": "stream",
     "text": [
      "Count of Neighborhood column is empty: 1\n"
     ]
    }
   ],
   "source": [
    "not_empty_neighborhood = df_html[df_html['Neighborhood'].isna()].shape[0]\n",
    "print('Count of Neighborhood column is empty: {}'.format(not_empty_neighborhood))"
   ]
  },
  {
   "cell_type": "code",
   "execution_count": 7,
   "metadata": {},
   "outputs": [
    {
     "data": {
      "text/html": [
       "<div>\n",
       "<style scoped>\n",
       "    .dataframe tbody tr th:only-of-type {\n",
       "        vertical-align: middle;\n",
       "    }\n",
       "\n",
       "    .dataframe tbody tr th {\n",
       "        vertical-align: top;\n",
       "    }\n",
       "\n",
       "    .dataframe thead th {\n",
       "        text-align: right;\n",
       "    }\n",
       "</style>\n",
       "<table border=\"1\" class=\"dataframe\">\n",
       "  <thead>\n",
       "    <tr style=\"text-align: right;\">\n",
       "      <th></th>\n",
       "      <th>PostalCode</th>\n",
       "      <th>Borough</th>\n",
       "      <th>Neighborhood</th>\n",
       "    </tr>\n",
       "  </thead>\n",
       "  <tbody>\n",
       "    <tr>\n",
       "      <td>9</td>\n",
       "      <td>M9A</td>\n",
       "      <td>Queen's Park</td>\n",
       "      <td>NaN</td>\n",
       "    </tr>\n",
       "  </tbody>\n",
       "</table>\n",
       "</div>"
      ],
      "text/plain": [
       "  PostalCode       Borough Neighborhood\n",
       "9        M9A  Queen's Park          NaN"
      ]
     },
     "execution_count": 7,
     "metadata": {},
     "output_type": "execute_result"
    }
   ],
   "source": [
    "df_html[df_html['Neighborhood'].isna()]"
   ]
  },
  {
   "cell_type": "code",
   "execution_count": 8,
   "metadata": {},
   "outputs": [
    {
     "name": "stdout",
     "output_type": "stream",
     "text": [
      "Count of Neighborhood column is empty: 0\n"
     ]
    }
   ],
   "source": [
    "df_html['Neighborhood'].fillna(df_html['Borough'], inplace=True)\n",
    "not_empty_neighborhood = df_html[df_html['Neighborhood'].isna()].shape[0]\n",
    "print('Count of Neighborhood column is empty: {}'.format(not_empty_neighborhood))"
   ]
  },
  {
   "cell_type": "code",
   "execution_count": 9,
   "metadata": {},
   "outputs": [
    {
     "data": {
      "text/html": [
       "<div>\n",
       "<style scoped>\n",
       "    .dataframe tbody tr th:only-of-type {\n",
       "        vertical-align: middle;\n",
       "    }\n",
       "\n",
       "    .dataframe tbody tr th {\n",
       "        vertical-align: top;\n",
       "    }\n",
       "\n",
       "    .dataframe thead th {\n",
       "        text-align: right;\n",
       "    }\n",
       "</style>\n",
       "<table border=\"1\" class=\"dataframe\">\n",
       "  <thead>\n",
       "    <tr style=\"text-align: right;\">\n",
       "      <th></th>\n",
       "      <th>PostalCode</th>\n",
       "      <th>Borough</th>\n",
       "      <th>Neighborhood</th>\n",
       "    </tr>\n",
       "  </thead>\n",
       "  <tbody>\n",
       "    <tr>\n",
       "      <td>9</td>\n",
       "      <td>M9A</td>\n",
       "      <td>Queen's Park</td>\n",
       "      <td>Queen's Park</td>\n",
       "    </tr>\n",
       "  </tbody>\n",
       "</table>\n",
       "</div>"
      ],
      "text/plain": [
       "  PostalCode       Borough  Neighborhood\n",
       "9        M9A  Queen's Park  Queen's Park"
      ]
     },
     "execution_count": 9,
     "metadata": {},
     "output_type": "execute_result"
    }
   ],
   "source": [
    "df_html[df_html['Borough']==\"Queen's Park\"]"
   ]
  },
  {
   "cell_type": "code",
   "execution_count": 10,
   "metadata": {},
   "outputs": [
    {
     "data": {
      "text/html": [
       "<div>\n",
       "<style scoped>\n",
       "    .dataframe tbody tr th:only-of-type {\n",
       "        vertical-align: middle;\n",
       "    }\n",
       "\n",
       "    .dataframe tbody tr th {\n",
       "        vertical-align: top;\n",
       "    }\n",
       "\n",
       "    .dataframe thead th {\n",
       "        text-align: right;\n",
       "    }\n",
       "</style>\n",
       "<table border=\"1\" class=\"dataframe\">\n",
       "  <thead>\n",
       "    <tr style=\"text-align: right;\">\n",
       "      <th></th>\n",
       "      <th>PostalCode</th>\n",
       "      <th>Borough</th>\n",
       "      <th>Neighborhood</th>\n",
       "    </tr>\n",
       "  </thead>\n",
       "  <tbody>\n",
       "    <tr>\n",
       "      <td>0</td>\n",
       "      <td>M1B</td>\n",
       "      <td>Scarborough</td>\n",
       "      <td>Rouge, Malvern</td>\n",
       "    </tr>\n",
       "    <tr>\n",
       "      <td>1</td>\n",
       "      <td>M1C</td>\n",
       "      <td>Scarborough</td>\n",
       "      <td>Highland Creek, Rouge Hill, Port Union</td>\n",
       "    </tr>\n",
       "    <tr>\n",
       "      <td>2</td>\n",
       "      <td>M1E</td>\n",
       "      <td>Scarborough</td>\n",
       "      <td>Guildwood, Morningside, West Hill</td>\n",
       "    </tr>\n",
       "    <tr>\n",
       "      <td>3</td>\n",
       "      <td>M1G</td>\n",
       "      <td>Scarborough</td>\n",
       "      <td>Woburn</td>\n",
       "    </tr>\n",
       "    <tr>\n",
       "      <td>4</td>\n",
       "      <td>M1H</td>\n",
       "      <td>Scarborough</td>\n",
       "      <td>Cedarbrae</td>\n",
       "    </tr>\n",
       "  </tbody>\n",
       "</table>\n",
       "</div>"
      ],
      "text/plain": [
       "  PostalCode      Borough                            Neighborhood\n",
       "0        M1B  Scarborough                          Rouge, Malvern\n",
       "1        M1C  Scarborough  Highland Creek, Rouge Hill, Port Union\n",
       "2        M1E  Scarborough       Guildwood, Morningside, West Hill\n",
       "3        M1G  Scarborough                                  Woburn\n",
       "4        M1H  Scarborough                               Cedarbrae"
      ]
     },
     "execution_count": 10,
     "metadata": {},
     "output_type": "execute_result"
    }
   ],
   "source": [
    "df_postcodes =pd.DataFrame( df_html.groupby(['PostalCode','Borough']).Neighborhood.agg([('Neighborhood', ', '.join)]))\n",
    "df_postcodes.reset_index(inplace=True)\n",
    "df_postcodes.head(5)"
   ]
  },
  {
   "cell_type": "code",
   "execution_count": 11,
   "metadata": {},
   "outputs": [],
   "source": [
    "df_html.dropna(subset=['Borough'], inplace=True)"
   ]
  },
  {
   "cell_type": "code",
   "execution_count": 12,
   "metadata": {},
   "outputs": [
    {
     "name": "stdout",
     "output_type": "stream",
     "text": [
      "Count of Neighborhood column is empty: 0\n"
     ]
    }
   ],
   "source": [
    "not_empty_neighborhood = df_html[df_html['Neighborhood'].isna()].shape[0]\n",
    "print('Count of Neighborhood column is empty: {}'.format(not_empty_neighborhood))"
   ]
  },
  {
   "cell_type": "code",
   "execution_count": 13,
   "metadata": {},
   "outputs": [
    {
     "name": "stdout",
     "output_type": "stream",
     "text": [
      "The shape is: (103, 3)\n"
     ]
    }
   ],
   "source": [
    "print('The shape is:',df_postcodes.shape)"
   ]
  },
  {
   "cell_type": "code",
   "execution_count": 14,
   "metadata": {},
   "outputs": [],
   "source": [
    "df_postcodes.to_csv('Toronto_Postcodes.csv')"
   ]
  },
  {
   "cell_type": "code",
   "execution_count": 15,
   "metadata": {},
   "outputs": [
    {
     "data": {
      "text/html": [
       "<div>\n",
       "<style scoped>\n",
       "    .dataframe tbody tr th:only-of-type {\n",
       "        vertical-align: middle;\n",
       "    }\n",
       "\n",
       "    .dataframe tbody tr th {\n",
       "        vertical-align: top;\n",
       "    }\n",
       "\n",
       "    .dataframe thead th {\n",
       "        text-align: right;\n",
       "    }\n",
       "</style>\n",
       "<table border=\"1\" class=\"dataframe\">\n",
       "  <thead>\n",
       "    <tr style=\"text-align: right;\">\n",
       "      <th></th>\n",
       "      <th>Postal Code</th>\n",
       "      <th>Latitude</th>\n",
       "      <th>Longitude</th>\n",
       "    </tr>\n",
       "  </thead>\n",
       "  <tbody>\n",
       "    <tr>\n",
       "      <td>0</td>\n",
       "      <td>M1B</td>\n",
       "      <td>43.806686</td>\n",
       "      <td>-79.194353</td>\n",
       "    </tr>\n",
       "    <tr>\n",
       "      <td>1</td>\n",
       "      <td>M1C</td>\n",
       "      <td>43.784535</td>\n",
       "      <td>-79.160497</td>\n",
       "    </tr>\n",
       "    <tr>\n",
       "      <td>2</td>\n",
       "      <td>M1E</td>\n",
       "      <td>43.763573</td>\n",
       "      <td>-79.188711</td>\n",
       "    </tr>\n",
       "    <tr>\n",
       "      <td>3</td>\n",
       "      <td>M1G</td>\n",
       "      <td>43.770992</td>\n",
       "      <td>-79.216917</td>\n",
       "    </tr>\n",
       "    <tr>\n",
       "      <td>4</td>\n",
       "      <td>M1H</td>\n",
       "      <td>43.773136</td>\n",
       "      <td>-79.239476</td>\n",
       "    </tr>\n",
       "  </tbody>\n",
       "</table>\n",
       "</div>"
      ],
      "text/plain": [
       "  Postal Code   Latitude  Longitude\n",
       "0         M1B  43.806686 -79.194353\n",
       "1         M1C  43.784535 -79.160497\n",
       "2         M1E  43.763573 -79.188711\n",
       "3         M1G  43.770992 -79.216917\n",
       "4         M1H  43.773136 -79.239476"
      ]
     },
     "execution_count": 15,
     "metadata": {},
     "output_type": "execute_result"
    }
   ],
   "source": [
    "url_csv = 'http://cocl.us/Geospatial_data'\n",
    "df_coordinates = pd.read_csv(url_csv)\n",
    "df_coordinates.head()"
   ]
  },
  {
   "cell_type": "code",
   "execution_count": 16,
   "metadata": {},
   "outputs": [
    {
     "data": {
      "text/html": [
       "<div>\n",
       "<style scoped>\n",
       "    .dataframe tbody tr th:only-of-type {\n",
       "        vertical-align: middle;\n",
       "    }\n",
       "\n",
       "    .dataframe tbody tr th {\n",
       "        vertical-align: top;\n",
       "    }\n",
       "\n",
       "    .dataframe thead th {\n",
       "        text-align: right;\n",
       "    }\n",
       "</style>\n",
       "<table border=\"1\" class=\"dataframe\">\n",
       "  <thead>\n",
       "    <tr style=\"text-align: right;\">\n",
       "      <th></th>\n",
       "      <th>PostalCode</th>\n",
       "      <th>Borough</th>\n",
       "      <th>Neighborhood</th>\n",
       "    </tr>\n",
       "  </thead>\n",
       "  <tbody>\n",
       "    <tr>\n",
       "      <td>0</td>\n",
       "      <td>M1B</td>\n",
       "      <td>Scarborough</td>\n",
       "      <td>Rouge, Malvern</td>\n",
       "    </tr>\n",
       "    <tr>\n",
       "      <td>1</td>\n",
       "      <td>M1C</td>\n",
       "      <td>Scarborough</td>\n",
       "      <td>Highland Creek, Rouge Hill, Port Union</td>\n",
       "    </tr>\n",
       "    <tr>\n",
       "      <td>2</td>\n",
       "      <td>M1E</td>\n",
       "      <td>Scarborough</td>\n",
       "      <td>Guildwood, Morningside, West Hill</td>\n",
       "    </tr>\n",
       "    <tr>\n",
       "      <td>3</td>\n",
       "      <td>M1G</td>\n",
       "      <td>Scarborough</td>\n",
       "      <td>Woburn</td>\n",
       "    </tr>\n",
       "    <tr>\n",
       "      <td>4</td>\n",
       "      <td>M1H</td>\n",
       "      <td>Scarborough</td>\n",
       "      <td>Cedarbrae</td>\n",
       "    </tr>\n",
       "  </tbody>\n",
       "</table>\n",
       "</div>"
      ],
      "text/plain": [
       "  PostalCode      Borough                            Neighborhood\n",
       "0        M1B  Scarborough                          Rouge, Malvern\n",
       "1        M1C  Scarborough  Highland Creek, Rouge Hill, Port Union\n",
       "2        M1E  Scarborough       Guildwood, Morningside, West Hill\n",
       "3        M1G  Scarborough                                  Woburn\n",
       "4        M1H  Scarborough                               Cedarbrae"
      ]
     },
     "execution_count": 16,
     "metadata": {},
     "output_type": "execute_result"
    }
   ],
   "source": [
    "df_neighborhoods = pd.read_csv('Toronto_Postcodes.csv',index_col=[0])\n",
    "df_neighborhoods.head()"
   ]
  },
  {
   "cell_type": "code",
   "execution_count": 17,
   "metadata": {},
   "outputs": [],
   "source": [
    "df_coordinates.rename(columns={'Postal Code': 'PostalCode'}, inplace=True)\n",
    "df_neighborhoods.rename(columns={'PostalCode': 'PostalCode'}, inplace=True)"
   ]
  },
  {
   "cell_type": "code",
   "execution_count": 18,
   "metadata": {},
   "outputs": [
    {
     "data": {
      "text/html": [
       "<div>\n",
       "<style scoped>\n",
       "    .dataframe tbody tr th:only-of-type {\n",
       "        vertical-align: middle;\n",
       "    }\n",
       "\n",
       "    .dataframe tbody tr th {\n",
       "        vertical-align: top;\n",
       "    }\n",
       "\n",
       "    .dataframe thead th {\n",
       "        text-align: right;\n",
       "    }\n",
       "</style>\n",
       "<table border=\"1\" class=\"dataframe\">\n",
       "  <thead>\n",
       "    <tr style=\"text-align: right;\">\n",
       "      <th></th>\n",
       "      <th>PostalCode</th>\n",
       "      <th>Borough</th>\n",
       "      <th>Neighborhood</th>\n",
       "      <th>Latitude</th>\n",
       "      <th>Longitude</th>\n",
       "    </tr>\n",
       "  </thead>\n",
       "  <tbody>\n",
       "    <tr>\n",
       "      <td>0</td>\n",
       "      <td>M1B</td>\n",
       "      <td>Scarborough</td>\n",
       "      <td>Rouge, Malvern</td>\n",
       "      <td>43.806686</td>\n",
       "      <td>-79.194353</td>\n",
       "    </tr>\n",
       "    <tr>\n",
       "      <td>1</td>\n",
       "      <td>M1C</td>\n",
       "      <td>Scarborough</td>\n",
       "      <td>Highland Creek, Rouge Hill, Port Union</td>\n",
       "      <td>43.784535</td>\n",
       "      <td>-79.160497</td>\n",
       "    </tr>\n",
       "    <tr>\n",
       "      <td>2</td>\n",
       "      <td>M1E</td>\n",
       "      <td>Scarborough</td>\n",
       "      <td>Guildwood, Morningside, West Hill</td>\n",
       "      <td>43.763573</td>\n",
       "      <td>-79.188711</td>\n",
       "    </tr>\n",
       "    <tr>\n",
       "      <td>3</td>\n",
       "      <td>M1G</td>\n",
       "      <td>Scarborough</td>\n",
       "      <td>Woburn</td>\n",
       "      <td>43.770992</td>\n",
       "      <td>-79.216917</td>\n",
       "    </tr>\n",
       "    <tr>\n",
       "      <td>4</td>\n",
       "      <td>M1H</td>\n",
       "      <td>Scarborough</td>\n",
       "      <td>Cedarbrae</td>\n",
       "      <td>43.773136</td>\n",
       "      <td>-79.239476</td>\n",
       "    </tr>\n",
       "  </tbody>\n",
       "</table>\n",
       "</div>"
      ],
      "text/plain": [
       "  PostalCode      Borough                            Neighborhood   Latitude  \\\n",
       "0        M1B  Scarborough                          Rouge, Malvern  43.806686   \n",
       "1        M1C  Scarborough  Highland Creek, Rouge Hill, Port Union  43.784535   \n",
       "2        M1E  Scarborough       Guildwood, Morningside, West Hill  43.763573   \n",
       "3        M1G  Scarborough                                  Woburn  43.770992   \n",
       "4        M1H  Scarborough                               Cedarbrae  43.773136   \n",
       "\n",
       "   Longitude  \n",
       "0 -79.194353  \n",
       "1 -79.160497  \n",
       "2 -79.188711  \n",
       "3 -79.216917  \n",
       "4 -79.239476  "
      ]
     },
     "execution_count": 18,
     "metadata": {},
     "output_type": "execute_result"
    }
   ],
   "source": [
    "df_neighborhoods_coordinates = pd.merge(df_neighborhoods, df_coordinates, on='PostalCode')\n",
    "df_neighborhoods_coordinates.head()"
   ]
  },
  {
   "cell_type": "code",
   "execution_count": 19,
   "metadata": {},
   "outputs": [
    {
     "data": {
      "text/html": [
       "<div>\n",
       "<style scoped>\n",
       "    .dataframe tbody tr th:only-of-type {\n",
       "        vertical-align: middle;\n",
       "    }\n",
       "\n",
       "    .dataframe tbody tr th {\n",
       "        vertical-align: top;\n",
       "    }\n",
       "\n",
       "    .dataframe thead th {\n",
       "        text-align: right;\n",
       "    }\n",
       "</style>\n",
       "<table border=\"1\" class=\"dataframe\">\n",
       "  <thead>\n",
       "    <tr style=\"text-align: right;\">\n",
       "      <th></th>\n",
       "      <th>PostalCode</th>\n",
       "      <th>Borough</th>\n",
       "      <th>Neighborhood</th>\n",
       "      <th>Latitude</th>\n",
       "      <th>Longitude</th>\n",
       "    </tr>\n",
       "  </thead>\n",
       "  <tbody>\n",
       "    <tr>\n",
       "      <td>17</td>\n",
       "      <td>M2H</td>\n",
       "      <td>North York</td>\n",
       "      <td>Hillcrest Village</td>\n",
       "      <td>43.803762</td>\n",
       "      <td>-79.363452</td>\n",
       "    </tr>\n",
       "    <tr>\n",
       "      <td>57</td>\n",
       "      <td>M5G</td>\n",
       "      <td>Downtown Toronto</td>\n",
       "      <td>Central Bay Street</td>\n",
       "      <td>43.657952</td>\n",
       "      <td>-79.387383</td>\n",
       "    </tr>\n",
       "  </tbody>\n",
       "</table>\n",
       "</div>"
      ],
      "text/plain": [
       "   PostalCode           Borough        Neighborhood   Latitude  Longitude\n",
       "17        M2H        North York   Hillcrest Village  43.803762 -79.363452\n",
       "57        M5G  Downtown Toronto  Central Bay Street  43.657952 -79.387383"
      ]
     },
     "execution_count": 19,
     "metadata": {},
     "output_type": "execute_result"
    }
   ],
   "source": [
    "df_neighborhoods_coordinates[(df_neighborhoods_coordinates['PostalCode']=='M5G') |\n",
    "                             (df_neighborhoods_coordinates['PostalCode']=='M2H') ]"
   ]
  },
  {
   "cell_type": "code",
   "execution_count": 20,
   "metadata": {},
   "outputs": [],
   "source": [
    "df_neighborhoods_coordinates.to_csv('Toronto_Postcodes_2.csv')"
   ]
  },
  {
   "cell_type": "code",
   "execution_count": 21,
   "metadata": {},
   "outputs": [
    {
     "data": {
      "text/html": [
       "<div>\n",
       "<style scoped>\n",
       "    .dataframe tbody tr th:only-of-type {\n",
       "        vertical-align: middle;\n",
       "    }\n",
       "\n",
       "    .dataframe tbody tr th {\n",
       "        vertical-align: top;\n",
       "    }\n",
       "\n",
       "    .dataframe thead th {\n",
       "        text-align: right;\n",
       "    }\n",
       "</style>\n",
       "<table border=\"1\" class=\"dataframe\">\n",
       "  <thead>\n",
       "    <tr style=\"text-align: right;\">\n",
       "      <th></th>\n",
       "      <th>PostalCode</th>\n",
       "      <th>Borough</th>\n",
       "      <th>Neighborhood</th>\n",
       "      <th>Latitude</th>\n",
       "      <th>Longitude</th>\n",
       "    </tr>\n",
       "  </thead>\n",
       "  <tbody>\n",
       "    <tr>\n",
       "      <td>0</td>\n",
       "      <td>M1B</td>\n",
       "      <td>Scarborough</td>\n",
       "      <td>Rouge, Malvern</td>\n",
       "      <td>43.806686</td>\n",
       "      <td>-79.194353</td>\n",
       "    </tr>\n",
       "    <tr>\n",
       "      <td>1</td>\n",
       "      <td>M1C</td>\n",
       "      <td>Scarborough</td>\n",
       "      <td>Highland Creek, Rouge Hill, Port Union</td>\n",
       "      <td>43.784535</td>\n",
       "      <td>-79.160497</td>\n",
       "    </tr>\n",
       "    <tr>\n",
       "      <td>2</td>\n",
       "      <td>M1E</td>\n",
       "      <td>Scarborough</td>\n",
       "      <td>Guildwood, Morningside, West Hill</td>\n",
       "      <td>43.763573</td>\n",
       "      <td>-79.188711</td>\n",
       "    </tr>\n",
       "    <tr>\n",
       "      <td>3</td>\n",
       "      <td>M1G</td>\n",
       "      <td>Scarborough</td>\n",
       "      <td>Woburn</td>\n",
       "      <td>43.770992</td>\n",
       "      <td>-79.216917</td>\n",
       "    </tr>\n",
       "    <tr>\n",
       "      <td>4</td>\n",
       "      <td>M1H</td>\n",
       "      <td>Scarborough</td>\n",
       "      <td>Cedarbrae</td>\n",
       "      <td>43.773136</td>\n",
       "      <td>-79.239476</td>\n",
       "    </tr>\n",
       "  </tbody>\n",
       "</table>\n",
       "</div>"
      ],
      "text/plain": [
       "  PostalCode      Borough                            Neighborhood   Latitude  \\\n",
       "0        M1B  Scarborough                          Rouge, Malvern  43.806686   \n",
       "1        M1C  Scarborough  Highland Creek, Rouge Hill, Port Union  43.784535   \n",
       "2        M1E  Scarborough       Guildwood, Morningside, West Hill  43.763573   \n",
       "3        M1G  Scarborough                                  Woburn  43.770992   \n",
       "4        M1H  Scarborough                               Cedarbrae  43.773136   \n",
       "\n",
       "   Longitude  \n",
       "0 -79.194353  \n",
       "1 -79.160497  \n",
       "2 -79.188711  \n",
       "3 -79.216917  \n",
       "4 -79.239476  "
      ]
     },
     "execution_count": 21,
     "metadata": {},
     "output_type": "execute_result"
    }
   ],
   "source": [
    "df = pd.read_csv('Toronto_Postcodes_2.csv', index_col=0)\n",
    "df.head()"
   ]
  },
  {
   "cell_type": "code",
   "execution_count": 22,
   "metadata": {},
   "outputs": [
    {
     "name": "stdout",
     "output_type": "stream",
     "text": [
      "The dataframe has 11 boroughs and 103 neighborhoods.\n"
     ]
    }
   ],
   "source": [
    "print('The dataframe has {} boroughs and {} neighborhoods.'.format(\n",
    "        len(df['Borough'].unique()),\n",
    "        df.shape[0]\n",
    "    )\n",
    ")"
   ]
  },
  {
   "cell_type": "code",
   "execution_count": 23,
   "metadata": {},
   "outputs": [
    {
     "data": {
      "text/plain": [
       "Borough\n",
       "Central Toronto      9\n",
       "Downtown Toronto    19\n",
       "East Toronto         5\n",
       "East York            5\n",
       "Etobicoke           11\n",
       "Mississauga          1\n",
       "North York          24\n",
       "Queen's Park         1\n",
       "Scarborough         17\n",
       "West Toronto         6\n",
       "York                 5\n",
       "Name: Neighborhood, dtype: int64"
      ]
     },
     "execution_count": 23,
     "metadata": {},
     "output_type": "execute_result"
    }
   ],
   "source": [
    "df.rename(columns={'Neighborhood': 'Neighborhood'}, inplace=True)\n",
    "df.groupby('Borough').count()['Neighborhood']"
   ]
  },
  {
   "cell_type": "code",
   "execution_count": 24,
   "metadata": {},
   "outputs": [
    {
     "name": "stderr",
     "output_type": "stream",
     "text": [
      "D:\\ProgramData\\Anaconda3\\lib\\site-packages\\pandas\\core\\frame.py:4102: SettingWithCopyWarning: \n",
      "A value is trying to be set on a copy of a slice from a DataFrame\n",
      "\n",
      "See the caveats in the documentation: http://pandas.pydata.org/pandas-docs/stable/user_guide/indexing.html#returning-a-view-versus-a-copy\n",
      "  errors=errors,\n"
     ]
    },
    {
     "data": {
      "text/html": [
       "<div>\n",
       "<style scoped>\n",
       "    .dataframe tbody tr th:only-of-type {\n",
       "        vertical-align: middle;\n",
       "    }\n",
       "\n",
       "    .dataframe tbody tr th {\n",
       "        vertical-align: top;\n",
       "    }\n",
       "\n",
       "    .dataframe thead th {\n",
       "        text-align: right;\n",
       "    }\n",
       "</style>\n",
       "<table border=\"1\" class=\"dataframe\">\n",
       "  <thead>\n",
       "    <tr style=\"text-align: right;\">\n",
       "      <th></th>\n",
       "      <th>PostalCode</th>\n",
       "      <th>Borough</th>\n",
       "      <th>Neighborhood</th>\n",
       "      <th>Latitude</th>\n",
       "      <th>Longitude</th>\n",
       "    </tr>\n",
       "  </thead>\n",
       "  <tbody>\n",
       "    <tr>\n",
       "      <td>0</td>\n",
       "      <td>M4E</td>\n",
       "      <td>East Toronto</td>\n",
       "      <td>The Beaches</td>\n",
       "      <td>43.676357</td>\n",
       "      <td>-79.293031</td>\n",
       "    </tr>\n",
       "    <tr>\n",
       "      <td>1</td>\n",
       "      <td>M4K</td>\n",
       "      <td>East Toronto</td>\n",
       "      <td>The Danforth West, Riverdale</td>\n",
       "      <td>43.679557</td>\n",
       "      <td>-79.352188</td>\n",
       "    </tr>\n",
       "    <tr>\n",
       "      <td>2</td>\n",
       "      <td>M4L</td>\n",
       "      <td>East Toronto</td>\n",
       "      <td>The Beaches West, India Bazaar</td>\n",
       "      <td>43.668999</td>\n",
       "      <td>-79.315572</td>\n",
       "    </tr>\n",
       "    <tr>\n",
       "      <td>3</td>\n",
       "      <td>M4M</td>\n",
       "      <td>East Toronto</td>\n",
       "      <td>Studio District</td>\n",
       "      <td>43.659526</td>\n",
       "      <td>-79.340923</td>\n",
       "    </tr>\n",
       "    <tr>\n",
       "      <td>4</td>\n",
       "      <td>M4N</td>\n",
       "      <td>Central Toronto</td>\n",
       "      <td>Lawrence Park</td>\n",
       "      <td>43.728020</td>\n",
       "      <td>-79.388790</td>\n",
       "    </tr>\n",
       "  </tbody>\n",
       "</table>\n",
       "</div>"
      ],
      "text/plain": [
       "  PostalCode          Borough                    Neighborhood   Latitude  \\\n",
       "0        M4E     East Toronto                     The Beaches  43.676357   \n",
       "1        M4K     East Toronto    The Danforth West, Riverdale  43.679557   \n",
       "2        M4L     East Toronto  The Beaches West, India Bazaar  43.668999   \n",
       "3        M4M     East Toronto                 Studio District  43.659526   \n",
       "4        M4N  Central Toronto                   Lawrence Park  43.728020   \n",
       "\n",
       "   Longitude  \n",
       "0 -79.293031  \n",
       "1 -79.352188  \n",
       "2 -79.315572  \n",
       "3 -79.340923  \n",
       "4 -79.388790  "
      ]
     },
     "execution_count": 24,
     "metadata": {},
     "output_type": "execute_result"
    }
   ],
   "source": [
    "df_toronto = df[df['Borough'].str.contains('Toronto')]\n",
    "df_toronto.reset_index(inplace=True)\n",
    "df_toronto.drop('index', axis=1, inplace=True)\n",
    "df_toronto.head()"
   ]
  },
  {
   "cell_type": "code",
   "execution_count": 25,
   "metadata": {},
   "outputs": [
    {
     "name": "stdout",
     "output_type": "stream",
     "text": [
      "Borough\n",
      "Central Toronto      9\n",
      "Downtown Toronto    19\n",
      "East Toronto         5\n",
      "West Toronto         6\n",
      "Name: Neighborhood, dtype: int64\n"
     ]
    }
   ],
   "source": [
    "print(df_toronto.groupby('Borough').count()['Neighborhood'])"
   ]
  },
  {
   "cell_type": "code",
   "execution_count": 26,
   "metadata": {},
   "outputs": [
    {
     "name": "stdout",
     "output_type": "stream",
     "text": [
      "The geographical coordinates of Toronto are 43.66713498717948, -79.38987324871795\n"
     ]
    }
   ],
   "source": [
    "boroughs = df_toronto['Borough'].unique().tolist()\n",
    "lat_toronto = df_toronto['Latitude'].mean()\n",
    "lon_toronto = df_toronto['Longitude'].mean()\n",
    "print('The geographical coordinates of Toronto are {}, {}'.format(lat_toronto, lon_toronto))"
   ]
  },
  {
   "cell_type": "code",
   "execution_count": 27,
   "metadata": {},
   "outputs": [
    {
     "data": {
      "text/html": [
       "<div style=\"width:100%;\"><div style=\"position:relative;width:100%;height:0;padding-bottom:60%;\"><iframe src=\"data:text/html;charset=utf-8;base64,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\" style=\"position:absolute;width:100%;height:100%;left:0;top:0;border:none !important;\" allowfullscreen webkitallowfullscreen mozallowfullscreen></iframe></div></div>"
      ],
      "text/plain": [
       "<folium.folium.Map at 0x556d84ae08>"
      ]
     },
     "execution_count": 27,
     "metadata": {},
     "output_type": "execute_result"
    }
   ],
   "source": [
    "borough_color = {}\n",
    "for borough in boroughs:\n",
    "    borough_color[borough]= '#%02X%02X%02X' % tuple(np.random.choice(range(256), size=3))\n",
    "    \n",
    "map_toronto = folium.Map(location=[lat_toronto, lon_toronto], zoom_start=12)\n",
    "\n",
    "# add markers to map\n",
    "for lat, lng, borough, neighborhood in zip(df_toronto['Latitude'], \n",
    "                                           df_toronto['Longitude'],\n",
    "                                           df_toronto['Borough'], \n",
    "                                           df_toronto['Neighborhood']):\n",
    "    label_text = borough + ' - ' + neighborhood\n",
    "    label = folium.Popup(label_text)\n",
    "    folium.CircleMarker(\n",
    "        [lat, lng],\n",
    "        radius=5,\n",
    "        popup=label,\n",
    "        color=borough_color[borough],\n",
    "        fill_color=borough_color[borough],\n",
    "        fill_opacity=0.7).add_to(map_toronto)  \n",
    "    \n",
    "map_toronto"
   ]
  },
  {
   "cell_type": "markdown",
   "metadata": {},
   "source": [
    "OK. There are data I use to report."
   ]
  },
  {
   "cell_type": "code",
   "execution_count": null,
   "metadata": {},
   "outputs": [],
   "source": []
  }
 ],
 "metadata": {
  "kernelspec": {
   "display_name": "Python 3",
   "language": "python",
   "name": "python3"
  },
  "language_info": {
   "codemirror_mode": {
    "name": "ipython",
    "version": 3
   },
   "file_extension": ".py",
   "mimetype": "text/x-python",
   "name": "python",
   "nbconvert_exporter": "python",
   "pygments_lexer": "ipython3",
   "version": "3.7.4"
  }
 },
 "nbformat": 4,
 "nbformat_minor": 4
}
