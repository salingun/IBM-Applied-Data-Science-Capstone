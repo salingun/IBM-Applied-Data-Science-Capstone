{
 "cells": [
  {
   "cell_type": "code",
   "execution_count": 2,
   "metadata": {},
   "outputs": [],
   "source": [
    "from bs4 import BeautifulSoup\n",
    "import numpy as np # library to handle data in a vectorized manner\n",
    "import pandas as pd\n",
    "import requests"
   ]
  },
  {
   "cell_type": "markdown",
   "metadata": {},
   "source": [
    "<h1>Part 1</h1>"
   ]
  },
  {
   "cell_type": "code",
   "execution_count": 47,
   "metadata": {},
   "outputs": [
    {
     "name": "stdout",
     "output_type": "stream",
     "text": [
      "200\n"
     ]
    }
   ],
   "source": [
    "url = 'https://en.wikipedia.org/wiki/List_of_postal_codes_of_Canada:_M'\n",
    "rs = requests.get(url)\n",
    "print(rs.status_code)"
   ]
  },
  {
   "cell_type": "code",
   "execution_count": 48,
   "metadata": {},
   "outputs": [],
   "source": [
    "soup = BeautifulSoup(rs.content, \"lxml\")"
   ]
  },
  {
   "cell_type": "code",
   "execution_count": 49,
   "metadata": {},
   "outputs": [],
   "source": [
    "table = soup.find('table', {\"class\":\"wikitable sortable\"})\n",
    "trs = table.find_all('tr')\n",
    "\n",
    "postcode = []\n",
    "borough = []\n",
    "neighbourhood = []\n",
    "\n",
    "for tr in trs:\n",
    "    tds = tr.find_all('td')\n",
    "    if tds:\n",
    "        postcode.append(tds[0].text.strip())\n",
    "        borough.append(tds[1].text.strip())\n",
    "        neighbourhood.append(tds[2].text.strip())\n"
   ]
  },
  {
   "cell_type": "markdown",
   "metadata": {},
   "source": [
    "<b>The dataframe will consist of three columns: PostalCode, Borough, and Neighborhood</b>"
   ]
  },
  {
   "cell_type": "code",
   "execution_count": 50,
   "metadata": {},
   "outputs": [
    {
     "data": {
      "text/html": [
       "<div>\n",
       "<style scoped>\n",
       "    .dataframe tbody tr th:only-of-type {\n",
       "        vertical-align: middle;\n",
       "    }\n",
       "\n",
       "    .dataframe tbody tr th {\n",
       "        vertical-align: top;\n",
       "    }\n",
       "\n",
       "    .dataframe thead th {\n",
       "        text-align: right;\n",
       "    }\n",
       "</style>\n",
       "<table border=\"1\" class=\"dataframe\">\n",
       "  <thead>\n",
       "    <tr style=\"text-align: right;\">\n",
       "      <th></th>\n",
       "      <th>PostalCode</th>\n",
       "      <th>Borough</th>\n",
       "      <th>Neighbourhood</th>\n",
       "    </tr>\n",
       "  </thead>\n",
       "  <tbody>\n",
       "    <tr>\n",
       "      <td>0</td>\n",
       "      <td>M1A</td>\n",
       "      <td>Not assigned</td>\n",
       "      <td>Not assigned</td>\n",
       "    </tr>\n",
       "    <tr>\n",
       "      <td>1</td>\n",
       "      <td>M2A</td>\n",
       "      <td>Not assigned</td>\n",
       "      <td>Not assigned</td>\n",
       "    </tr>\n",
       "    <tr>\n",
       "      <td>2</td>\n",
       "      <td>M3A</td>\n",
       "      <td>North York</td>\n",
       "      <td>Parkwoods</td>\n",
       "    </tr>\n",
       "    <tr>\n",
       "      <td>3</td>\n",
       "      <td>M4A</td>\n",
       "      <td>North York</td>\n",
       "      <td>Victoria Village</td>\n",
       "    </tr>\n",
       "    <tr>\n",
       "      <td>4</td>\n",
       "      <td>M5A</td>\n",
       "      <td>Downtown Toronto</td>\n",
       "      <td>Harbourfront</td>\n",
       "    </tr>\n",
       "  </tbody>\n",
       "</table>\n",
       "</div>"
      ],
      "text/plain": [
       "  PostalCode           Borough     Neighbourhood\n",
       "0        M1A      Not assigned      Not assigned\n",
       "1        M2A      Not assigned      Not assigned\n",
       "2        M3A        North York         Parkwoods\n",
       "3        M4A        North York  Victoria Village\n",
       "4        M5A  Downtown Toronto      Harbourfront"
      ]
     },
     "execution_count": 50,
     "metadata": {},
     "output_type": "execute_result"
    }
   ],
   "source": [
    "dataFrame = pd.DataFrame(data=[postcode, borough, neighbourhood]).transpose()\n",
    "dataFrame.columns=['PostalCode', 'Borough', 'Neighbourhood']\n",
    "dataFrame.head()"
   ]
  },
  {
   "cell_type": "markdown",
   "metadata": {},
   "source": [
    "<b>Only process the cells that have an assigned borough. Ignore cells with a borough that is Not assigned.</b>"
   ]
  },
  {
   "cell_type": "code",
   "execution_count": 51,
   "metadata": {},
   "outputs": [
    {
     "data": {
      "text/html": [
       "<div>\n",
       "<style scoped>\n",
       "    .dataframe tbody tr th:only-of-type {\n",
       "        vertical-align: middle;\n",
       "    }\n",
       "\n",
       "    .dataframe tbody tr th {\n",
       "        vertical-align: top;\n",
       "    }\n",
       "\n",
       "    .dataframe thead th {\n",
       "        text-align: right;\n",
       "    }\n",
       "</style>\n",
       "<table border=\"1\" class=\"dataframe\">\n",
       "  <thead>\n",
       "    <tr style=\"text-align: right;\">\n",
       "      <th></th>\n",
       "      <th>PostalCode</th>\n",
       "      <th>Borough</th>\n",
       "      <th>Neighbourhood</th>\n",
       "    </tr>\n",
       "  </thead>\n",
       "  <tbody>\n",
       "    <tr>\n",
       "      <td>0</td>\n",
       "      <td>M3A</td>\n",
       "      <td>North York</td>\n",
       "      <td>Parkwoods</td>\n",
       "    </tr>\n",
       "    <tr>\n",
       "      <td>1</td>\n",
       "      <td>M4A</td>\n",
       "      <td>North York</td>\n",
       "      <td>Victoria Village</td>\n",
       "    </tr>\n",
       "    <tr>\n",
       "      <td>2</td>\n",
       "      <td>M5A</td>\n",
       "      <td>Downtown Toronto</td>\n",
       "      <td>Harbourfront</td>\n",
       "    </tr>\n",
       "    <tr>\n",
       "      <td>3</td>\n",
       "      <td>M6A</td>\n",
       "      <td>North York</td>\n",
       "      <td>Lawrence Heights</td>\n",
       "    </tr>\n",
       "    <tr>\n",
       "      <td>4</td>\n",
       "      <td>M6A</td>\n",
       "      <td>North York</td>\n",
       "      <td>Lawrence Manor</td>\n",
       "    </tr>\n",
       "  </tbody>\n",
       "</table>\n",
       "</div>"
      ],
      "text/plain": [
       "  PostalCode           Borough     Neighbourhood\n",
       "0        M3A        North York         Parkwoods\n",
       "1        M4A        North York  Victoria Village\n",
       "2        M5A  Downtown Toronto      Harbourfront\n",
       "3        M6A        North York  Lawrence Heights\n",
       "4        M6A        North York    Lawrence Manor"
      ]
     },
     "execution_count": 51,
     "metadata": {},
     "output_type": "execute_result"
    }
   ],
   "source": [
    "dataFrame2 = dataFrame[dataFrame.Borough != \"Not assigned\"].reset_index(drop=True)\n",
    "dataFrame2.head()"
   ]
  },
  {
   "cell_type": "markdown",
   "metadata": {},
   "source": [
    "<b>Group the same Postal Code</b>"
   ]
  },
  {
   "cell_type": "code",
   "execution_count": 52,
   "metadata": {},
   "outputs": [
    {
     "data": {
      "text/html": [
       "<div>\n",
       "<style scoped>\n",
       "    .dataframe tbody tr th:only-of-type {\n",
       "        vertical-align: middle;\n",
       "    }\n",
       "\n",
       "    .dataframe tbody tr th {\n",
       "        vertical-align: top;\n",
       "    }\n",
       "\n",
       "    .dataframe thead th {\n",
       "        text-align: right;\n",
       "    }\n",
       "</style>\n",
       "<table border=\"1\" class=\"dataframe\">\n",
       "  <thead>\n",
       "    <tr style=\"text-align: right;\">\n",
       "      <th></th>\n",
       "      <th>PostalCode</th>\n",
       "      <th>Borough</th>\n",
       "      <th>Neighbourhood</th>\n",
       "    </tr>\n",
       "  </thead>\n",
       "  <tbody>\n",
       "    <tr>\n",
       "      <td>0</td>\n",
       "      <td>M1B</td>\n",
       "      <td>Scarborough</td>\n",
       "      <td>Rouge, Malvern</td>\n",
       "    </tr>\n",
       "    <tr>\n",
       "      <td>1</td>\n",
       "      <td>M1C</td>\n",
       "      <td>Scarborough</td>\n",
       "      <td>Highland Creek, Rouge Hill, Port Union</td>\n",
       "    </tr>\n",
       "    <tr>\n",
       "      <td>2</td>\n",
       "      <td>M1E</td>\n",
       "      <td>Scarborough</td>\n",
       "      <td>Guildwood, Morningside, West Hill</td>\n",
       "    </tr>\n",
       "    <tr>\n",
       "      <td>3</td>\n",
       "      <td>M1G</td>\n",
       "      <td>Scarborough</td>\n",
       "      <td>Woburn</td>\n",
       "    </tr>\n",
       "    <tr>\n",
       "      <td>4</td>\n",
       "      <td>M1H</td>\n",
       "      <td>Scarborough</td>\n",
       "      <td>Cedarbrae</td>\n",
       "    </tr>\n",
       "  </tbody>\n",
       "</table>\n",
       "</div>"
      ],
      "text/plain": [
       "  PostalCode      Borough                           Neighbourhood\n",
       "0        M1B  Scarborough                          Rouge, Malvern\n",
       "1        M1C  Scarborough  Highland Creek, Rouge Hill, Port Union\n",
       "2        M1E  Scarborough       Guildwood, Morningside, West Hill\n",
       "3        M1G  Scarborough                                  Woburn\n",
       "4        M1H  Scarborough                               Cedarbrae"
      ]
     },
     "execution_count": 52,
     "metadata": {},
     "output_type": "execute_result"
    }
   ],
   "source": [
    "dataFrame3 = dataFrame2.groupby([\"PostalCode\", \"Borough\"], as_index=False).agg(lambda x: \", \".join(x))\n",
    "dataFrame3.head()"
   ]
  },
  {
   "cell_type": "markdown",
   "metadata": {},
   "source": [
    "<b>Neighborhood=\"Not assigned\", make the value the same as Borough</b>"
   ]
  },
  {
   "cell_type": "code",
   "execution_count": 53,
   "metadata": {},
   "outputs": [
    {
     "data": {
      "text/html": [
       "<div>\n",
       "<style scoped>\n",
       "    .dataframe tbody tr th:only-of-type {\n",
       "        vertical-align: middle;\n",
       "    }\n",
       "\n",
       "    .dataframe tbody tr th {\n",
       "        vertical-align: top;\n",
       "    }\n",
       "\n",
       "    .dataframe thead th {\n",
       "        text-align: right;\n",
       "    }\n",
       "</style>\n",
       "<table border=\"1\" class=\"dataframe\">\n",
       "  <thead>\n",
       "    <tr style=\"text-align: right;\">\n",
       "      <th></th>\n",
       "      <th>PostalCode</th>\n",
       "      <th>Borough</th>\n",
       "      <th>Neighbourhood</th>\n",
       "    </tr>\n",
       "  </thead>\n",
       "  <tbody>\n",
       "    <tr>\n",
       "      <td>0</td>\n",
       "      <td>M1B</td>\n",
       "      <td>Scarborough</td>\n",
       "      <td>Rouge, Malvern</td>\n",
       "    </tr>\n",
       "    <tr>\n",
       "      <td>1</td>\n",
       "      <td>M1C</td>\n",
       "      <td>Scarborough</td>\n",
       "      <td>Highland Creek, Rouge Hill, Port Union</td>\n",
       "    </tr>\n",
       "    <tr>\n",
       "      <td>2</td>\n",
       "      <td>M1E</td>\n",
       "      <td>Scarborough</td>\n",
       "      <td>Guildwood, Morningside, West Hill</td>\n",
       "    </tr>\n",
       "    <tr>\n",
       "      <td>3</td>\n",
       "      <td>M1G</td>\n",
       "      <td>Scarborough</td>\n",
       "      <td>Woburn</td>\n",
       "    </tr>\n",
       "    <tr>\n",
       "      <td>4</td>\n",
       "      <td>M1H</td>\n",
       "      <td>Scarborough</td>\n",
       "      <td>Cedarbrae</td>\n",
       "    </tr>\n",
       "  </tbody>\n",
       "</table>\n",
       "</div>"
      ],
      "text/plain": [
       "  PostalCode      Borough                           Neighbourhood\n",
       "0        M1B  Scarborough                          Rouge, Malvern\n",
       "1        M1C  Scarborough  Highland Creek, Rouge Hill, Port Union\n",
       "2        M1E  Scarborough       Guildwood, Morningside, West Hill\n",
       "3        M1G  Scarborough                                  Woburn\n",
       "4        M1H  Scarborough                               Cedarbrae"
      ]
     },
     "execution_count": 53,
     "metadata": {},
     "output_type": "execute_result"
    }
   ],
   "source": [
    "dataFrame4 = dataFrame3\n",
    "for index, row in dataFrame4.iterrows():\n",
    "    if row[\"Neighbourhood\"] == \"Not assigned\":\n",
    "        row[\"Neighbourhood\"] = row[\"Borough\"]\n",
    "        \n",
    "dataFrame4.head()"
   ]
  },
  {
   "cell_type": "markdown",
   "metadata": {},
   "source": [
    "<b>Number of rows</b>"
   ]
  },
  {
   "cell_type": "code",
   "execution_count": 54,
   "metadata": {},
   "outputs": [
    {
     "data": {
      "text/plain": [
       "(103, 3)"
      ]
     },
     "execution_count": 54,
     "metadata": {},
     "output_type": "execute_result"
    }
   ],
   "source": [
    "dataFrame4.shape"
   ]
  },
  {
   "cell_type": "markdown",
   "metadata": {},
   "source": [
    "<h1>Part 2</h1>"
   ]
  },
  {
   "cell_type": "markdown",
   "metadata": {},
   "source": [
    "<b>Load Geospatial coordinates data</b>"
   ]
  },
  {
   "cell_type": "code",
   "execution_count": 55,
   "metadata": {},
   "outputs": [
    {
     "data": {
      "text/html": [
       "<div>\n",
       "<style scoped>\n",
       "    .dataframe tbody tr th:only-of-type {\n",
       "        vertical-align: middle;\n",
       "    }\n",
       "\n",
       "    .dataframe tbody tr th {\n",
       "        vertical-align: top;\n",
       "    }\n",
       "\n",
       "    .dataframe thead th {\n",
       "        text-align: right;\n",
       "    }\n",
       "</style>\n",
       "<table border=\"1\" class=\"dataframe\">\n",
       "  <thead>\n",
       "    <tr style=\"text-align: right;\">\n",
       "      <th></th>\n",
       "      <th>Postal Code</th>\n",
       "      <th>Latitude</th>\n",
       "      <th>Longitude</th>\n",
       "    </tr>\n",
       "  </thead>\n",
       "  <tbody>\n",
       "    <tr>\n",
       "      <td>0</td>\n",
       "      <td>M1B</td>\n",
       "      <td>43.806686</td>\n",
       "      <td>-79.194353</td>\n",
       "    </tr>\n",
       "    <tr>\n",
       "      <td>1</td>\n",
       "      <td>M1C</td>\n",
       "      <td>43.784535</td>\n",
       "      <td>-79.160497</td>\n",
       "    </tr>\n",
       "    <tr>\n",
       "      <td>2</td>\n",
       "      <td>M1E</td>\n",
       "      <td>43.763573</td>\n",
       "      <td>-79.188711</td>\n",
       "    </tr>\n",
       "    <tr>\n",
       "      <td>3</td>\n",
       "      <td>M1G</td>\n",
       "      <td>43.770992</td>\n",
       "      <td>-79.216917</td>\n",
       "    </tr>\n",
       "    <tr>\n",
       "      <td>4</td>\n",
       "      <td>M1H</td>\n",
       "      <td>43.773136</td>\n",
       "      <td>-79.239476</td>\n",
       "    </tr>\n",
       "  </tbody>\n",
       "</table>\n",
       "</div>"
      ],
      "text/plain": [
       "  Postal Code   Latitude  Longitude\n",
       "0         M1B  43.806686 -79.194353\n",
       "1         M1C  43.784535 -79.160497\n",
       "2         M1E  43.763573 -79.188711\n",
       "3         M1G  43.770992 -79.216917\n",
       "4         M1H  43.773136 -79.239476"
      ]
     },
     "execution_count": 55,
     "metadata": {},
     "output_type": "execute_result"
    }
   ],
   "source": [
    "url = \"https://cocl.us/Geospatial_data\"\n",
    "coordinates = pd.read_csv(url)\n",
    "coordinates.head()"
   ]
  },
  {
   "cell_type": "code",
   "execution_count": 65,
   "metadata": {},
   "outputs": [
    {
     "data": {
      "text/html": [
       "<div>\n",
       "<style scoped>\n",
       "    .dataframe tbody tr th:only-of-type {\n",
       "        vertical-align: middle;\n",
       "    }\n",
       "\n",
       "    .dataframe tbody tr th {\n",
       "        vertical-align: top;\n",
       "    }\n",
       "\n",
       "    .dataframe thead th {\n",
       "        text-align: right;\n",
       "    }\n",
       "</style>\n",
       "<table border=\"1\" class=\"dataframe\">\n",
       "  <thead>\n",
       "    <tr style=\"text-align: right;\">\n",
       "      <th></th>\n",
       "      <th>PostalCode</th>\n",
       "      <th>Latitude</th>\n",
       "      <th>Longitude</th>\n",
       "    </tr>\n",
       "  </thead>\n",
       "  <tbody>\n",
       "    <tr>\n",
       "      <td>0</td>\n",
       "      <td>M1B</td>\n",
       "      <td>43.806686</td>\n",
       "      <td>-79.194353</td>\n",
       "    </tr>\n",
       "    <tr>\n",
       "      <td>1</td>\n",
       "      <td>M1C</td>\n",
       "      <td>43.784535</td>\n",
       "      <td>-79.160497</td>\n",
       "    </tr>\n",
       "    <tr>\n",
       "      <td>2</td>\n",
       "      <td>M1E</td>\n",
       "      <td>43.763573</td>\n",
       "      <td>-79.188711</td>\n",
       "    </tr>\n",
       "    <tr>\n",
       "      <td>3</td>\n",
       "      <td>M1G</td>\n",
       "      <td>43.770992</td>\n",
       "      <td>-79.216917</td>\n",
       "    </tr>\n",
       "    <tr>\n",
       "      <td>4</td>\n",
       "      <td>M1H</td>\n",
       "      <td>43.773136</td>\n",
       "      <td>-79.239476</td>\n",
       "    </tr>\n",
       "  </tbody>\n",
       "</table>\n",
       "</div>"
      ],
      "text/plain": [
       "  PostalCode   Latitude  Longitude\n",
       "0        M1B  43.806686 -79.194353\n",
       "1        M1C  43.784535 -79.160497\n",
       "2        M1E  43.763573 -79.188711\n",
       "3        M1G  43.770992 -79.216917\n",
       "4        M1H  43.773136 -79.239476"
      ]
     },
     "execution_count": 65,
     "metadata": {},
     "output_type": "execute_result"
    }
   ],
   "source": [
    "coordinates.rename(columns={\"Postal Code\": \"PostalCode\"}, inplace=True)\n",
    "coordinates.head()"
   ]
  },
  {
   "cell_type": "markdown",
   "metadata": {},
   "source": [
    "<b>Merge 2 table</b>"
   ]
  },
  {
   "cell_type": "code",
   "execution_count": 67,
   "metadata": {},
   "outputs": [
    {
     "data": {
      "text/html": [
       "<div>\n",
       "<style scoped>\n",
       "    .dataframe tbody tr th:only-of-type {\n",
       "        vertical-align: middle;\n",
       "    }\n",
       "\n",
       "    .dataframe tbody tr th {\n",
       "        vertical-align: top;\n",
       "    }\n",
       "\n",
       "    .dataframe thead th {\n",
       "        text-align: right;\n",
       "    }\n",
       "</style>\n",
       "<table border=\"1\" class=\"dataframe\">\n",
       "  <thead>\n",
       "    <tr style=\"text-align: right;\">\n",
       "      <th></th>\n",
       "      <th>PostalCode</th>\n",
       "      <th>Borough</th>\n",
       "      <th>Neighbourhood</th>\n",
       "      <th>Latitude</th>\n",
       "      <th>Longitude</th>\n",
       "    </tr>\n",
       "  </thead>\n",
       "  <tbody>\n",
       "    <tr>\n",
       "      <td>0</td>\n",
       "      <td>M1B</td>\n",
       "      <td>Scarborough</td>\n",
       "      <td>Rouge, Malvern</td>\n",
       "      <td>43.806686</td>\n",
       "      <td>-79.194353</td>\n",
       "    </tr>\n",
       "    <tr>\n",
       "      <td>1</td>\n",
       "      <td>M1C</td>\n",
       "      <td>Scarborough</td>\n",
       "      <td>Highland Creek, Rouge Hill, Port Union</td>\n",
       "      <td>43.784535</td>\n",
       "      <td>-79.160497</td>\n",
       "    </tr>\n",
       "    <tr>\n",
       "      <td>2</td>\n",
       "      <td>M1E</td>\n",
       "      <td>Scarborough</td>\n",
       "      <td>Guildwood, Morningside, West Hill</td>\n",
       "      <td>43.763573</td>\n",
       "      <td>-79.188711</td>\n",
       "    </tr>\n",
       "    <tr>\n",
       "      <td>3</td>\n",
       "      <td>M1G</td>\n",
       "      <td>Scarborough</td>\n",
       "      <td>Woburn</td>\n",
       "      <td>43.770992</td>\n",
       "      <td>-79.216917</td>\n",
       "    </tr>\n",
       "    <tr>\n",
       "      <td>4</td>\n",
       "      <td>M1H</td>\n",
       "      <td>Scarborough</td>\n",
       "      <td>Cedarbrae</td>\n",
       "      <td>43.773136</td>\n",
       "      <td>-79.239476</td>\n",
       "    </tr>\n",
       "  </tbody>\n",
       "</table>\n",
       "</div>"
      ],
      "text/plain": [
       "  PostalCode      Borough                           Neighbourhood   Latitude  \\\n",
       "0        M1B  Scarborough                          Rouge, Malvern  43.806686   \n",
       "1        M1C  Scarborough  Highland Creek, Rouge Hill, Port Union  43.784535   \n",
       "2        M1E  Scarborough       Guildwood, Morningside, West Hill  43.763573   \n",
       "3        M1G  Scarborough                                  Woburn  43.770992   \n",
       "4        M1H  Scarborough                               Cedarbrae  43.773136   \n",
       "\n",
       "   Longitude  \n",
       "0 -79.194353  \n",
       "1 -79.160497  \n",
       "2 -79.188711  \n",
       "3 -79.216917  \n",
       "4 -79.239476  "
      ]
     },
     "execution_count": 67,
     "metadata": {},
     "output_type": "execute_result"
    }
   ],
   "source": [
    "dataFrame5 = dataFrame4.merge(coordinates, on=\"PostalCode\", how=\"left\")\n",
    "dataFrame5.head()"
   ]
  },
  {
   "cell_type": "markdown",
   "metadata": {},
   "source": [
    "<b> Show all to check </b>"
   ]
  },
  {
   "cell_type": "code",
   "execution_count": 77,
   "metadata": {},
   "outputs": [
    {
     "data": {
      "text/html": [
       "<div>\n",
       "<style scoped>\n",
       "    .dataframe tbody tr th:only-of-type {\n",
       "        vertical-align: middle;\n",
       "    }\n",
       "\n",
       "    .dataframe tbody tr th {\n",
       "        vertical-align: top;\n",
       "    }\n",
       "\n",
       "    .dataframe thead th {\n",
       "        text-align: right;\n",
       "    }\n",
       "</style>\n",
       "<table border=\"1\" class=\"dataframe\">\n",
       "  <thead>\n",
       "    <tr style=\"text-align: right;\">\n",
       "      <th></th>\n",
       "      <th>PostalCode</th>\n",
       "      <th>Borough</th>\n",
       "      <th>Neighbourhood</th>\n",
       "      <th>Latitude</th>\n",
       "      <th>Longitude</th>\n",
       "    </tr>\n",
       "  </thead>\n",
       "  <tbody>\n",
       "    <tr>\n",
       "      <td>0</td>\n",
       "      <td>M5G</td>\n",
       "      <td>Downtown Toronto</td>\n",
       "      <td>Central Bay Street</td>\n",
       "      <td>43.657952</td>\n",
       "      <td>-79.387383</td>\n",
       "    </tr>\n",
       "    <tr>\n",
       "      <td>1</td>\n",
       "      <td>M2H</td>\n",
       "      <td>North York</td>\n",
       "      <td>Hillcrest Village</td>\n",
       "      <td>43.803762</td>\n",
       "      <td>-79.363452</td>\n",
       "    </tr>\n",
       "    <tr>\n",
       "      <td>2</td>\n",
       "      <td>M4B</td>\n",
       "      <td>East York</td>\n",
       "      <td>Woodbine Gardens, Parkview Hill</td>\n",
       "      <td>43.706397</td>\n",
       "      <td>-79.309937</td>\n",
       "    </tr>\n",
       "    <tr>\n",
       "      <td>3</td>\n",
       "      <td>M1J</td>\n",
       "      <td>Scarborough</td>\n",
       "      <td>Scarborough Village</td>\n",
       "      <td>43.744734</td>\n",
       "      <td>-79.239476</td>\n",
       "    </tr>\n",
       "    <tr>\n",
       "      <td>4</td>\n",
       "      <td>M4G</td>\n",
       "      <td>East York</td>\n",
       "      <td>Leaside</td>\n",
       "      <td>43.709060</td>\n",
       "      <td>-79.363452</td>\n",
       "    </tr>\n",
       "    <tr>\n",
       "      <td>5</td>\n",
       "      <td>M4M</td>\n",
       "      <td>East Toronto</td>\n",
       "      <td>Studio District</td>\n",
       "      <td>43.659526</td>\n",
       "      <td>-79.340923</td>\n",
       "    </tr>\n",
       "    <tr>\n",
       "      <td>6</td>\n",
       "      <td>M1R</td>\n",
       "      <td>Scarborough</td>\n",
       "      <td>Maryvale, Wexford</td>\n",
       "      <td>43.750072</td>\n",
       "      <td>-79.295849</td>\n",
       "    </tr>\n",
       "    <tr>\n",
       "      <td>7</td>\n",
       "      <td>M9V</td>\n",
       "      <td>Etobicoke</td>\n",
       "      <td>Albion Gardens, Beaumond Heights, Humbergate, ...</td>\n",
       "      <td>43.739416</td>\n",
       "      <td>-79.588437</td>\n",
       "    </tr>\n",
       "    <tr>\n",
       "      <td>8</td>\n",
       "      <td>M9L</td>\n",
       "      <td>North York</td>\n",
       "      <td>Humber Summit</td>\n",
       "      <td>43.756303</td>\n",
       "      <td>-79.565963</td>\n",
       "    </tr>\n",
       "    <tr>\n",
       "      <td>9</td>\n",
       "      <td>M5V</td>\n",
       "      <td>Downtown Toronto</td>\n",
       "      <td>CN Tower, Bathurst Quay, Island airport, Harbo...</td>\n",
       "      <td>43.628947</td>\n",
       "      <td>-79.394420</td>\n",
       "    </tr>\n",
       "    <tr>\n",
       "      <td>10</td>\n",
       "      <td>M1B</td>\n",
       "      <td>Scarborough</td>\n",
       "      <td>Rouge, Malvern</td>\n",
       "      <td>43.806686</td>\n",
       "      <td>-79.194353</td>\n",
       "    </tr>\n",
       "    <tr>\n",
       "      <td>11</td>\n",
       "      <td>M5A</td>\n",
       "      <td>Downtown Toronto</td>\n",
       "      <td>Harbourfront</td>\n",
       "      <td>43.654260</td>\n",
       "      <td>-79.360636</td>\n",
       "    </tr>\n",
       "  </tbody>\n",
       "</table>\n",
       "</div>"
      ],
      "text/plain": [
       "   PostalCode           Borough  \\\n",
       "0         M5G  Downtown Toronto   \n",
       "1         M2H        North York   \n",
       "2         M4B         East York   \n",
       "3         M1J       Scarborough   \n",
       "4         M4G         East York   \n",
       "5         M4M      East Toronto   \n",
       "6         M1R       Scarborough   \n",
       "7         M9V         Etobicoke   \n",
       "8         M9L        North York   \n",
       "9         M5V  Downtown Toronto   \n",
       "10        M1B       Scarborough   \n",
       "11        M5A  Downtown Toronto   \n",
       "\n",
       "                                        Neighbourhood   Latitude  Longitude  \n",
       "0                                  Central Bay Street  43.657952 -79.387383  \n",
       "1                                   Hillcrest Village  43.803762 -79.363452  \n",
       "2                     Woodbine Gardens, Parkview Hill  43.706397 -79.309937  \n",
       "3                                 Scarborough Village  43.744734 -79.239476  \n",
       "4                                             Leaside  43.709060 -79.363452  \n",
       "5                                     Studio District  43.659526 -79.340923  \n",
       "6                                   Maryvale, Wexford  43.750072 -79.295849  \n",
       "7   Albion Gardens, Beaumond Heights, Humbergate, ...  43.739416 -79.588437  \n",
       "8                                       Humber Summit  43.756303 -79.565963  \n",
       "9   CN Tower, Bathurst Quay, Island airport, Harbo...  43.628947 -79.394420  \n",
       "10                                     Rouge, Malvern  43.806686 -79.194353  \n",
       "11                                       Harbourfront  43.654260 -79.360636  "
      ]
     },
     "execution_count": 77,
     "metadata": {},
     "output_type": "execute_result"
    }
   ],
   "source": [
    "column_names = [\"PostalCode\", \"Borough\", \"Neighbourhood\", \"Latitude\", \"Longitude\"]\n",
    "test_df = pd.DataFrame(columns=column_names)\n",
    "\n",
    "test_list = [\"M5G\", \"M2H\", \"M4B\", \"M1J\", \"M4G\", \"M4M\", \"M1R\", \"M9V\", \"M9L\", \"M5V\", \"M1B\", \"M5A\"]\n",
    "\n",
    "for postcode in test_list:\n",
    "    test_df = test_df.append(dataFrame5[dataFrame5[\"PostalCode\"]==postcode], ignore_index=True)\n",
    "\n",
    "test_df.sort = True\n",
    "test_df"
   ]
  },
  {
   "cell_type": "markdown",
   "metadata": {},
   "source": [
    "<h1> Part 3 </h1>"
   ]
  },
  {
   "cell_type": "code",
   "execution_count": 85,
   "metadata": {},
   "outputs": [
    {
     "name": "stdout",
     "output_type": "stream",
     "text": [
      "Collecting folium\n",
      "  Downloading https://files.pythonhosted.org/packages/fd/a0/ccb3094026649cda4acd55bf2c3822bb8c277eb11446d13d384e5be35257/folium-0.10.1-py2.py3-none-any.whl (91kB)\n",
      "Collecting branca>=0.3.0 (from folium)\n",
      "  Downloading https://files.pythonhosted.org/packages/63/36/1c93318e9653f4e414a2e0c3b98fc898b4970e939afeedeee6075dd3b703/branca-0.3.1-py3-none-any.whl\n",
      "Requirement already satisfied: jinja2>=2.9 in d:\\programdata\\anaconda3\\lib\\site-packages (from folium) (2.10.3)\n",
      "Requirement already satisfied: requests in d:\\programdata\\anaconda3\\lib\\site-packages (from folium) (2.22.0)\n",
      "Requirement already satisfied: numpy in d:\\programdata\\anaconda3\\lib\\site-packages (from folium) (1.16.5)\n",
      "Requirement already satisfied: six in d:\\programdata\\anaconda3\\lib\\site-packages (from branca>=0.3.0->folium) (1.12.0)\n",
      "Requirement already satisfied: MarkupSafe>=0.23 in d:\\programdata\\anaconda3\\lib\\site-packages (from jinja2>=2.9->folium) (1.1.1)\n",
      "Requirement already satisfied: urllib3!=1.25.0,!=1.25.1,<1.26,>=1.21.1 in d:\\programdata\\anaconda3\\lib\\site-packages (from requests->folium) (1.24.2)\n",
      "Requirement already satisfied: idna<2.9,>=2.5 in d:\\programdata\\anaconda3\\lib\\site-packages (from requests->folium) (2.8)\n",
      "Requirement already satisfied: certifi>=2017.4.17 in d:\\programdata\\anaconda3\\lib\\site-packages (from requests->folium) (2019.9.11)\n",
      "Requirement already satisfied: chardet<3.1.0,>=3.0.2 in d:\\programdata\\anaconda3\\lib\\site-packages (from requests->folium) (3.0.4)\n",
      "Installing collected packages: branca, folium\n",
      "Successfully installed branca-0.3.1 folium-0.10.1\n",
      "Note: you may need to restart the kernel to use updated packages.\n"
     ]
    }
   ],
   "source": [
    "pip install folium"
   ]
  },
  {
   "cell_type": "code",
   "execution_count": 86,
   "metadata": {},
   "outputs": [],
   "source": [
    "from geopy.geocoders import Nominatim\n",
    "import folium"
   ]
  },
  {
   "cell_type": "code",
   "execution_count": 82,
   "metadata": {},
   "outputs": [
    {
     "name": "stdout",
     "output_type": "stream",
     "text": [
      "Toronto location: 43.653963, -79.387207.\n"
     ]
    }
   ],
   "source": [
    "address = 'Toronto'\n",
    "\n",
    "geolocator = Nominatim(user_agent=\"diennh\")\n",
    "location = geolocator.geocode(address)\n",
    "latitude = location.latitude\n",
    "longitude = location.longitude\n",
    "print('Toronto location: {}, {}.'.format(latitude, longitude))"
   ]
  },
  {
   "cell_type": "code",
   "execution_count": 90,
   "metadata": {},
   "outputs": [
    {
     "data": {
      "text/html": [
       "<div style=\"width:100%;\"><div style=\"position:relative;width:100%;height:0;padding-bottom:60%;\"><iframe src=\"data:text/html;charset=utf-8;base64,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\" style=\"position:absolute;width:100%;height:100%;left:0;top:0;border:none !important;\" allowfullscreen webkitallowfullscreen mozallowfullscreen></iframe></div></div>"
      ],
      "text/plain": [
       "<folium.folium.Map at 0xf414cba288>"
      ]
     },
     "execution_count": 90,
     "metadata": {},
     "output_type": "execute_result"
    }
   ],
   "source": [
    "torontoFrame = dataFrame5\n",
    "# create map\n",
    "map_toronto = folium.Map(location=[latitude, longitude], zoom_start=10)\n",
    "\n",
    "# add mark to map\n",
    "for lat, lng, borough, neighborhood in zip(torontoFrame['Latitude'], \n",
    "                                           torontoFrame['Longitude'], \n",
    "                                           torontoFrame['Borough'], \n",
    "                                           torontoFrame['Neighbourhood']):\n",
    "    label = '{}, {}'.format(neighborhood, borough)\n",
    "    label = folium.Popup(label, parse_html=True)\n",
    "    folium.CircleMarker(\n",
    "        [lat, lng],\n",
    "        radius=5,\n",
    "        popup=label,\n",
    "        color='blue',\n",
    "        fill=True,\n",
    "        fill_color='#3186cc',\n",
    "        fill_opacity=0.7).add_to(map_toronto)  \n",
    "    \n",
    "map_toronto"
   ]
  },
  {
   "cell_type": "markdown",
   "metadata": {},
   "source": [
    "<b>Only boroughs that contain the word Toronto</b>"
   ]
  },
  {
   "cell_type": "code",
   "execution_count": 91,
   "metadata": {},
   "outputs": [
    {
     "data": {
      "text/plain": [
       "['East Toronto', 'Central Toronto', 'Downtown Toronto', 'West Toronto']"
      ]
     },
     "execution_count": 91,
     "metadata": {},
     "output_type": "execute_result"
    }
   ],
   "source": [
    "borough_names = list(torontoFrame.Borough.unique())\n",
    "\n",
    "borough_with_toronto = []\n",
    "\n",
    "for x in borough_names:\n",
    "    if \"toronto\" in x.lower():\n",
    "        borough_with_toronto.append(x)\n",
    "        \n",
    "borough_with_toronto"
   ]
  },
  {
   "cell_type": "code",
   "execution_count": 92,
   "metadata": {},
   "outputs": [
    {
     "name": "stdout",
     "output_type": "stream",
     "text": [
      "(39, 5)\n"
     ]
    },
    {
     "data": {
      "text/html": [
       "<div>\n",
       "<style scoped>\n",
       "    .dataframe tbody tr th:only-of-type {\n",
       "        vertical-align: middle;\n",
       "    }\n",
       "\n",
       "    .dataframe tbody tr th {\n",
       "        vertical-align: top;\n",
       "    }\n",
       "\n",
       "    .dataframe thead th {\n",
       "        text-align: right;\n",
       "    }\n",
       "</style>\n",
       "<table border=\"1\" class=\"dataframe\">\n",
       "  <thead>\n",
       "    <tr style=\"text-align: right;\">\n",
       "      <th></th>\n",
       "      <th>PostalCode</th>\n",
       "      <th>Borough</th>\n",
       "      <th>Neighbourhood</th>\n",
       "      <th>Latitude</th>\n",
       "      <th>Longitude</th>\n",
       "    </tr>\n",
       "  </thead>\n",
       "  <tbody>\n",
       "    <tr>\n",
       "      <td>0</td>\n",
       "      <td>M4E</td>\n",
       "      <td>East Toronto</td>\n",
       "      <td>The Beaches</td>\n",
       "      <td>43.676357</td>\n",
       "      <td>-79.293031</td>\n",
       "    </tr>\n",
       "    <tr>\n",
       "      <td>1</td>\n",
       "      <td>M4K</td>\n",
       "      <td>East Toronto</td>\n",
       "      <td>The Danforth West, Riverdale</td>\n",
       "      <td>43.679557</td>\n",
       "      <td>-79.352188</td>\n",
       "    </tr>\n",
       "    <tr>\n",
       "      <td>2</td>\n",
       "      <td>M4L</td>\n",
       "      <td>East Toronto</td>\n",
       "      <td>The Beaches West, India Bazaar</td>\n",
       "      <td>43.668999</td>\n",
       "      <td>-79.315572</td>\n",
       "    </tr>\n",
       "    <tr>\n",
       "      <td>3</td>\n",
       "      <td>M4M</td>\n",
       "      <td>East Toronto</td>\n",
       "      <td>Studio District</td>\n",
       "      <td>43.659526</td>\n",
       "      <td>-79.340923</td>\n",
       "    </tr>\n",
       "    <tr>\n",
       "      <td>4</td>\n",
       "      <td>M4N</td>\n",
       "      <td>Central Toronto</td>\n",
       "      <td>Lawrence Park</td>\n",
       "      <td>43.728020</td>\n",
       "      <td>-79.388790</td>\n",
       "    </tr>\n",
       "  </tbody>\n",
       "</table>\n",
       "</div>"
      ],
      "text/plain": [
       "  PostalCode          Borough                   Neighbourhood   Latitude  \\\n",
       "0        M4E     East Toronto                     The Beaches  43.676357   \n",
       "1        M4K     East Toronto    The Danforth West, Riverdale  43.679557   \n",
       "2        M4L     East Toronto  The Beaches West, India Bazaar  43.668999   \n",
       "3        M4M     East Toronto                 Studio District  43.659526   \n",
       "4        M4N  Central Toronto                   Lawrence Park  43.728020   \n",
       "\n",
       "   Longitude  \n",
       "0 -79.293031  \n",
       "1 -79.352188  \n",
       "2 -79.315572  \n",
       "3 -79.340923  \n",
       "4 -79.388790  "
      ]
     },
     "execution_count": 92,
     "metadata": {},
     "output_type": "execute_result"
    }
   ],
   "source": [
    "newTorontoFrame = torontoFrame\n",
    "newTorontoFrame = newTorontoFrame[newTorontoFrame['Borough'].isin(borough_with_toronto)].reset_index(drop=True)\n",
    "print(newTorontoFrame.shape)\n",
    "newTorontoFrame.head()"
   ]
  },
  {
   "cell_type": "code",
   "execution_count": 94,
   "metadata": {},
   "outputs": [
    {
     "data": {
      "text/html": [
       "<div style=\"width:100%;\"><div style=\"position:relative;width:100%;height:0;padding-bottom:60%;\"><iframe src=\"data:text/html;charset=utf-8;base64,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\" style=\"position:absolute;width:100%;height:100%;left:0;top:0;border:none !important;\" allowfullscreen webkitallowfullscreen mozallowfullscreen></iframe></div></div>"
      ],
      "text/plain": [
       "<folium.folium.Map at 0xf4121138c8>"
      ]
     },
     "execution_count": 94,
     "metadata": {},
     "output_type": "execute_result"
    }
   ],
   "source": [
    "# create map\n",
    "map_toronto = folium.Map(location=[latitude, longitude], zoom_start=10)\n",
    "\n",
    "# add mark to map\n",
    "for lat, lng, borough, neighborhood in zip(newTorontoFrame['Latitude'], \n",
    "                                           newTorontoFrame['Longitude'], \n",
    "                                           newTorontoFrame['Borough'], \n",
    "                                           newTorontoFrame['Neighbourhood']):\n",
    "    label = '{}, {}'.format(neighborhood, borough)\n",
    "    label = folium.Popup(label, parse_html=True)\n",
    "    folium.CircleMarker(\n",
    "        [lat, lng],\n",
    "        radius=5,\n",
    "        popup=label,\n",
    "        color='blue',\n",
    "        fill=True,\n",
    "        fill_color='#3186cc',\n",
    "        fill_opacity=0.7).add_to(map_toronto)  \n",
    "    \n",
    "map_toronto"
   ]
  },
  {
   "cell_type": "code",
   "execution_count": null,
   "metadata": {},
   "outputs": [],
   "source": []
  }
 ],
 "metadata": {
  "kernelspec": {
   "display_name": "Python 3",
   "language": "python",
   "name": "python3"
  },
  "language_info": {
   "codemirror_mode": {
    "name": "ipython",
    "version": 3
   },
   "file_extension": ".py",
   "mimetype": "text/x-python",
   "name": "python",
   "nbconvert_exporter": "python",
   "pygments_lexer": "ipython3",
   "version": "3.7.4"
  }
 },
 "nbformat": 4,
 "nbformat_minor": 4
}
